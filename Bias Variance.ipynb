{
 "cells": [
  {
   "cell_type": "code",
   "execution_count": 7,
   "metadata": {
    "collapsed": false,
    "hideCode": true
   },
   "outputs": [
    {
     "data": {
      "text/html": [
       "\n",
       "<style>\n",
       "\n",
       "div.cell { /* Tunes the space between cells */\n",
       "margin-top:1em;\n",
       "margin-bottom:1em;\n",
       "}\n",
       "\n",
       "div.text_cell_render h1 { /* Main titles bigger, centered */\n",
       "font-size: 2.2em;\n",
       "line-height:1.4em;\n",
       "text-align:center;\n",
       "}\n",
       "\n",
       "div.text_cell_render h2 { /*  Parts names nearer from text */\n",
       "margin-bottom: -0.4em;\n",
       "}\n",
       "\n",
       "\n",
       "div.text_cell_render { /* Customize text cells */\n",
       "font-family: 'Times New Roman';\n",
       "font-size:1.4em;\n",
       "line-height:1.4em;\n",
       "padding-left:3em;\n",
       "padding-right:3em;\n",
       "}\n",
       "</style>\n"
      ],
      "text/plain": [
       "<IPython.core.display.HTML object>"
      ]
     },
     "execution_count": 7,
     "metadata": {},
     "output_type": "execute_result"
    }
   ],
   "source": [
    "from IPython.core.display import HTML\n",
    "HTML(\"\"\"\n",
    "<style>\n",
    "\n",
    "div.cell { /* Tunes the space between cells */\n",
    "margin-top:1em;\n",
    "margin-bottom:1em;\n",
    "}\n",
    "\n",
    "div.text_cell_render h1 { /* Main titles bigger, centered */\n",
    "font-size: 2.2em;\n",
    "line-height:1.4em;\n",
    "text-align:center;\n",
    "}\n",
    "\n",
    "div.text_cell_render h2 { /*  Parts names nearer from text */\n",
    "margin-bottom: -0.4em;\n",
    "}\n",
    "\n",
    "\n",
    "div.text_cell_render { /* Customize text cells */\n",
    "font-family: 'Times New Roman';\n",
    "font-size:1.4em;\n",
    "line-height:1.4em;\n",
    "padding-left:3em;\n",
    "padding-right:3em;\n",
    "}\n",
    "</style>\n",
    "\"\"\")"
   ]
  },
  {
   "cell_type": "markdown",
   "metadata": {},
   "source": [
    "\n",
    "# Bias-Variance Tradeoff\n",
    "## Joby John (11/29/2016)\n",
    "\n",
    "Many texts show the decomposition of Mean Squared Error (MSE) in *Bias-Variance* components. I have never found a good description of exactly how MSE is decomposed in to the constituent terms of Bias Variance and Irreducible Error. I present this hoping some student finds this useful. The important step in the derivation is to add and subtract $2\\:\\overline{f}^2$ so that the terms can be grouped in to __Bias$^2$__ and __variance__ terms.\n",
    "\n",
    "The relationship between the the predictor $X$ and the predicted variable $Y$ is of the form  \n",
    "$Y = f(X)+\\epsilon$. Also, $Var(\\epsilon) = \\sigma_{\\epsilon}^2$, where $\\epsilon$ is the *irreducible error*.\n",
    "\n",
    "### Notation\n",
    "$\\Large f$ - the actual value of the function/variable being estimated  \n",
    "$\\Large \\hat{f}$ - the estimated value (a random variable with some distribution)  \n",
    "$\\Large \\overline{f}$ - the mean of the estimated value, i.e. $\\overline{f} = E(\\hat{f})$ \n",
    "\n",
    "The error estimate then is:  \n",
    "$\\Large MSE =  E([Y-\\hat{f}(X)]^2)$  \n",
    "        $\\Large = E([f(X)+\\epsilon - \\hat{f}(X)]^2)$, (drop the X's)\n",
    "        $\\Large = E(f^2+\\epsilon^2+2 f \\epsilon + \\hat{f}^2 - 2 (f +\\epsilon) \\hat{f})$  \n",
    "        $\\Large = E(f^2)+E(\\hat{f}^2)+\\sigma_{\\epsilon}^2 - 2 f E(\\hat{f})$  \n",
    "        (Since $\\epsilon$ and $\\hat{f}$ are uncorrelated and $E(\\epsilon) \\approx 0$)  \n",
    "        $\\Large  = E(f^2)+E(\\hat{f}^2)+\\sigma_{\\epsilon}^2 - 2 f \\overline{f}$  "
   ]
  },
  {
   "cell_type": "markdown",
   "metadata": {},
   "source": [
    "Now we add and subtract <font color='red'>$\\Large  2\\overline{f}^2 $</font>  \n",
    "         $\\Large = E(f^2)+\\overline{f}^2-2 \\overline{f} \\overline{f}+ E(\\hat{f}^2)+\\overline{f}^2-2 f \\overline{f}+\\sigma_{\\epsilon}^2$  \n",
    "         $\\Large  = E(f^2)+\\overline{f}^2-2 f \\overline{f}+ E(\\hat{f}^2)+\\overline{f}^2-2 \\overline{f} \\overline{f}+\\sigma_{\\epsilon}^2$  \n",
    "         $\\Large = E(f^2)+E(\\overline{f}^2)-E(2 f \\overline{f})+ E(\\hat{f}^2)+E(\\overline{f}^2)$  \n",
    "         $\\:\\:\\:\\:\\:\\!\\Large -2 E(\\hat{f}) \\overline{f}+\\sigma_{\\epsilon}^2$  \n",
    "         $\\Large  = E((f-\\overline{f})^2)+ E((\\hat{f}-\\overline{f})^2)+\\sigma_{\\epsilon}^2$\n",
    "         $\\Large = Bias^2+Variance+Irreducible\\: error$\n",
    "\n"
   ]
  }
 ],
 "metadata": {
  "celltoolbar": "Hide code",
  "kernelspec": {
   "display_name": "Python 2",
   "language": "python",
   "name": "python2"
  },
  "language_info": {
   "codemirror_mode": {
    "name": "ipython",
    "version": 2
   },
   "file_extension": ".py",
   "mimetype": "text/x-python",
   "name": "python",
   "nbconvert_exporter": "python",
   "pygments_lexer": "ipython2",
   "version": "2.7.12+"
  }
 },
 "nbformat": 4,
 "nbformat_minor": 1
}
